{
 "cells": [
  {
   "cell_type": "code",
   "execution_count": 69,
   "id": "89a50538",
   "metadata": {},
   "outputs": [],
   "source": [
    "import pandas as pd\n",
    "import numpy as np\n",
    "import matplotlib.pyplot as plt\n",
    "import seaborn as sns\n",
    "import graphviz"
   ]
  },
  {
   "cell_type": "markdown",
   "id": "129cf8ff",
   "metadata": {},
   "source": [
    "# Using Random Forest to Classify SDSS DR18 objects"
   ]
  },
  {
   "cell_type": "markdown",
   "id": "86e68703",
   "metadata": {},
   "source": [
    "# The Sloan Digital Sky Survey (SDSS) and the DR18"
   ]
  },
  {
   "cell_type": "markdown",
   "id": "7f8c39fa",
   "metadata": {},
   "source": [
    "The Sloan Digital Sky Survey (SDSS) stands as a pioneering astronomical endeavor aimed at unveiling the mysteries of the universe through systematic observation and analysis of celestial objects. Launched in 2000, SDSS sought to achieve a comprehensive understanding of cosmic structure and evolution by mapping and cataloging celestial objects on an unprecedented scale. Its primary objectives encompassed mapping large-scale cosmic structures, elucidating the nature of dark matter and dark energy, and providing a comprehensive spectroscopic database for a multitude of astronomical studies.\n",
    "\n",
    "At the heart of the SDSS's success lies its advanced instrumentation. The survey employed a dedicated 2.5-meter telescope located at Apache Point Observatory in New Mexico. The focal plane of the telescope hosted a unique camera, equipped with 30 charged coupled devices (CCDs), enabling simultaneous imaging of a 3-degree wide region of the sky. This allowed SDSS to capture detailed images of billions of celestial objects, ranging from stars and galaxies to quasars.\n",
    "\n",
    "SDSS was conducted in multiple phases, with each phase introducing technological advancements and expanded capabilities. The original SDSS-I, conducted from 2000 to 2005. From 2005 to 2008 we had the SDSS phase II and from 2008 to 2014 the SDSS-III. The SDSS-IV (2014–2020) extended the precision cosmological measurements to a critical early phase of cosmic history (eBOSS), expanding its infrared spectroscopic survey of the Galaxy in the northern and southern hemispheres (APOGEE-2), and for the first time using the Sloan spectrographs to make spatially resolved maps of individual galaxies (MaNGA).\n",
    "\n",
    "Commencing its data collection for SDSS-V in October 2020, the Apache Point Observatory in New Mexico embarked on a transformative journey.They made a complete transition from plug plates, which employ manually positioned holes for starlight penetration, to cutting-edge small automated robot arms  called Focal Plane Systems (FPS). And early this year the SDSS-IV annouced their first data release.\n",
    "\n",
    "Marking the initial data unveiling of the fifth phase of the Sloan Digital Sky Survey (SDSS-V), DR18 encompasses a comprehensive compilation of celestial information. A comprehensive breakdown of its contents can be found within the pages of the DR18 data release paper. [Almeida et al. (2023)](https://iopscience.iop.org/article/10.3847/1538-4365/acda98/pdf)\n",
    "\n",
    " ### DR18 includes the following:\n",
    "\n",
    "- Targeting catalogs prepared for the Black Hole Mapper and Milky Way Mapper science programs, as well as for the open fiber programs\n",
    "- Black Hole Mapper eFEDs spectra, part of the SPIDERS science program\n",
    "- A Value Added Catalog of redshifts and classifications for all DR18 eFEDS targets"
   ]
  },
  {
   "cell_type": "markdown",
   "id": "efe4234d",
   "metadata": {},
   "source": [
    "In this notebook we want to test our capabilities in using classification algorithms to distinguish between Galaxies and Quasars from the dataset. We're going to use python package [querySDSS](https://pypi.org/project/querySDSS/) which makes a specific SQL query to SDSS DR18 and returns a table with at least 2500 observations of \n",
    "\n",
    "- **Objid, Specobjid** - Object Identifiers\n",
    "- **ra** - J2000 Right Ascension\n",
    "- **dec** - J2000 Declination\n",
    "- **redshift** - Final Redshift of the celestial object\n",
    "- **u**, **g**, **r**, **i**, and **z** -  magnitude fit for u, g, r, i, and z. (they correspond to the five photometric bands: ultraviolet band, green band, red band, infrared band, and near infrared band respectively)\n",
    "- **run** - Run number\n",
    "- **rerun** - Rerun number\n",
    "- **camcol** - Camera column\n",
    "- **field** - Field number\n",
    "- **extinction_u** -  Extinction in u-band\n",
    "- **extinction_g** - Extinction in g-band\n",
    "- **extinction_r** -  Extinction in r-band\n",
    "- **extinction_i** -  Extinction in i-band\n",
    "- **extinction_z** - Extinction in z-band"
   ]
  },
  {
   "cell_type": "code",
   "execution_count": 70,
   "id": "8485e352",
   "metadata": {},
   "outputs": [
    {
     "name": "stdout",
     "output_type": "stream",
     "text": [
      "       objid               ra               dec         ...  mjd  fiberid\n",
      "------------------- ---------------- ------------------ ... ----- -------\n",
      "1237648704023625805 145.519562594683 -0.277550330307494 ... 51630     278\n",
      "1237648704023757044 145.801234298415  -0.21111036104638 ... 51630     239\n",
      "1237648704026509448 152.076181837436 -0.360214061006853 ... 51909     313\n",
      "1237648720141746448 145.196298357095 -0.879999301478019 ... 51630     290\n",
      "1237648720141746455 145.207375791509 -0.863077857877325 ... 51630     283\n",
      "1237648720141811978 145.342040236592   -0.9063341241487 ... 51630     293\n",
      "1237648720141812196 145.266900197223 -0.957309326575262 ... 51630     299\n",
      "                ...              ...                ... ...   ...     ...\n",
      "1237650797293994097 146.644994603171  0.937422331265396 ... 51630     566\n",
      "1237650797293994155 146.772911130531  0.964234485093419 ... 51630     574\n",
      "1237650797293994195 146.777925432119   1.03958690086452 ... 51630     569\n",
      "1237650797293994219 146.713228675548   1.00929455782692 ... 51630     567\n",
      "1237650797293994224 146.724768771812   1.03110704180183 ... 51630     568\n",
      "1237650797293994234 146.771651016877   1.01029280044758 ... 51630     573\n",
      "1237650797294059539 146.809396958191   0.97598874025084 ... 51630     571\n",
      "1237650797294059543  146.82658212024   1.00991261808453 ... 51630     611\n",
      "Length = 2500 rows\n"
     ]
    }
   ],
   "source": [
    "from querySDSS.querySDSS.querySDSS import query_sdss_data\n",
    "\n",
    "a = query_sdss_data()\n",
    "print(a)"
   ]
  },
  {
   "cell_type": "markdown",
   "id": "52732a5f",
   "metadata": {},
   "source": [
    "Now we see the table, but it is not a format we used to work with. Next step is to convert it to a more familiar format, a pandas.DataFrame, the type of the object is a astropy.table, it has a method called .to_pandas(), so we do it."
   ]
  },
  {
   "cell_type": "markdown",
   "id": "35bec71f",
   "metadata": {},
   "source": [
    "And we're going to work with a subset of columns, we wirte:"
   ]
  },
  {
   "cell_type": "code",
   "execution_count": 71,
   "id": "c7b637fd",
   "metadata": {},
   "outputs": [],
   "source": [
    "sdss_data = a[['ra', 'dec', 'u', 'g', 'r', 'i', 'z', 'class','redshift', 'extinction_u', 'extinction_g', \n",
    "               'extinction_r', 'extinction_i', 'extinction_z' ]]"
   ]
  },
  {
   "cell_type": "code",
   "execution_count": 72,
   "id": "62721f6b",
   "metadata": {},
   "outputs": [
    {
     "data": {
      "text/html": [
       "<div>\n",
       "<style scoped>\n",
       "    .dataframe tbody tr th:only-of-type {\n",
       "        vertical-align: middle;\n",
       "    }\n",
       "\n",
       "    .dataframe tbody tr th {\n",
       "        vertical-align: top;\n",
       "    }\n",
       "\n",
       "    .dataframe thead th {\n",
       "        text-align: right;\n",
       "    }\n",
       "</style>\n",
       "<table border=\"1\" class=\"dataframe\">\n",
       "  <thead>\n",
       "    <tr style=\"text-align: right;\">\n",
       "      <th></th>\n",
       "      <th>ra</th>\n",
       "      <th>dec</th>\n",
       "      <th>u</th>\n",
       "      <th>g</th>\n",
       "      <th>r</th>\n",
       "      <th>i</th>\n",
       "      <th>z</th>\n",
       "      <th>class</th>\n",
       "      <th>redshift</th>\n",
       "      <th>extinction_u</th>\n",
       "      <th>extinction_g</th>\n",
       "      <th>extinction_r</th>\n",
       "      <th>extinction_i</th>\n",
       "      <th>extinction_z</th>\n",
       "    </tr>\n",
       "  </thead>\n",
       "  <tbody>\n",
       "    <tr>\n",
       "      <th>0</th>\n",
       "      <td>145.519563</td>\n",
       "      <td>-0.277550</td>\n",
       "      <td>20.46911</td>\n",
       "      <td>25.11475</td>\n",
       "      <td>17.67106</td>\n",
       "      <td>17.13954</td>\n",
       "      <td>16.95682</td>\n",
       "      <td>GALAXY</td>\n",
       "      <td>0.098263</td>\n",
       "      <td>0.250194</td>\n",
       "      <td>0.194949</td>\n",
       "      <td>0.134865</td>\n",
       "      <td>0.100219</td>\n",
       "      <td>0.074545</td>\n",
       "    </tr>\n",
       "    <tr>\n",
       "      <th>1</th>\n",
       "      <td>145.801234</td>\n",
       "      <td>-0.211110</td>\n",
       "      <td>20.92195</td>\n",
       "      <td>18.96707</td>\n",
       "      <td>17.82314</td>\n",
       "      <td>17.23304</td>\n",
       "      <td>16.75092</td>\n",
       "      <td>GALAXY</td>\n",
       "      <td>0.144856</td>\n",
       "      <td>0.303444</td>\n",
       "      <td>0.236442</td>\n",
       "      <td>0.163569</td>\n",
       "      <td>0.121549</td>\n",
       "      <td>0.090410</td>\n",
       "    </tr>\n",
       "    <tr>\n",
       "      <th>2</th>\n",
       "      <td>152.076182</td>\n",
       "      <td>-0.360214</td>\n",
       "      <td>18.55622</td>\n",
       "      <td>17.32955</td>\n",
       "      <td>16.57430</td>\n",
       "      <td>16.16316</td>\n",
       "      <td>15.83828</td>\n",
       "      <td>GALAXY</td>\n",
       "      <td>0.096377</td>\n",
       "      <td>0.134622</td>\n",
       "      <td>0.104896</td>\n",
       "      <td>0.072567</td>\n",
       "      <td>0.053925</td>\n",
       "      <td>0.040110</td>\n",
       "    </tr>\n",
       "    <tr>\n",
       "      <th>3</th>\n",
       "      <td>145.196298</td>\n",
       "      <td>-0.879999</td>\n",
       "      <td>19.86500</td>\n",
       "      <td>18.27215</td>\n",
       "      <td>17.45637</td>\n",
       "      <td>17.07174</td>\n",
       "      <td>16.82843</td>\n",
       "      <td>GALAXY</td>\n",
       "      <td>0.118615</td>\n",
       "      <td>0.163474</td>\n",
       "      <td>0.127378</td>\n",
       "      <td>0.088120</td>\n",
       "      <td>0.065482</td>\n",
       "      <td>0.048707</td>\n",
       "    </tr>\n",
       "    <tr>\n",
       "      <th>4</th>\n",
       "      <td>145.207376</td>\n",
       "      <td>-0.863078</td>\n",
       "      <td>20.12505</td>\n",
       "      <td>17.94646</td>\n",
       "      <td>16.79356</td>\n",
       "      <td>16.31157</td>\n",
       "      <td>15.94484</td>\n",
       "      <td>GALAXY</td>\n",
       "      <td>0.141459</td>\n",
       "      <td>0.166269</td>\n",
       "      <td>0.129555</td>\n",
       "      <td>0.089626</td>\n",
       "      <td>0.066602</td>\n",
       "      <td>0.049539</td>\n",
       "    </tr>\n",
       "    <tr>\n",
       "      <th>...</th>\n",
       "      <td>...</td>\n",
       "      <td>...</td>\n",
       "      <td>...</td>\n",
       "      <td>...</td>\n",
       "      <td>...</td>\n",
       "      <td>...</td>\n",
       "      <td>...</td>\n",
       "      <td>...</td>\n",
       "      <td>...</td>\n",
       "      <td>...</td>\n",
       "      <td>...</td>\n",
       "      <td>...</td>\n",
       "      <td>...</td>\n",
       "      <td>...</td>\n",
       "    </tr>\n",
       "    <tr>\n",
       "      <th>2495</th>\n",
       "      <td>146.713229</td>\n",
       "      <td>1.009295</td>\n",
       "      <td>20.00950</td>\n",
       "      <td>18.54216</td>\n",
       "      <td>17.54038</td>\n",
       "      <td>17.04188</td>\n",
       "      <td>16.69040</td>\n",
       "      <td>GALAXY</td>\n",
       "      <td>0.161431</td>\n",
       "      <td>0.655902</td>\n",
       "      <td>0.511074</td>\n",
       "      <td>0.353559</td>\n",
       "      <td>0.262732</td>\n",
       "      <td>0.195424</td>\n",
       "    </tr>\n",
       "    <tr>\n",
       "      <th>2496</th>\n",
       "      <td>146.724769</td>\n",
       "      <td>1.031107</td>\n",
       "      <td>19.88334</td>\n",
       "      <td>18.51727</td>\n",
       "      <td>17.87238</td>\n",
       "      <td>17.48676</td>\n",
       "      <td>17.30951</td>\n",
       "      <td>GALAXY</td>\n",
       "      <td>0.086455</td>\n",
       "      <td>0.637444</td>\n",
       "      <td>0.496692</td>\n",
       "      <td>0.343609</td>\n",
       "      <td>0.255338</td>\n",
       "      <td>0.189925</td>\n",
       "    </tr>\n",
       "    <tr>\n",
       "      <th>2497</th>\n",
       "      <td>146.771651</td>\n",
       "      <td>1.010293</td>\n",
       "      <td>20.14380</td>\n",
       "      <td>18.72187</td>\n",
       "      <td>17.74986</td>\n",
       "      <td>17.18673</td>\n",
       "      <td>16.81649</td>\n",
       "      <td>GALAXY</td>\n",
       "      <td>0.161677</td>\n",
       "      <td>0.646385</td>\n",
       "      <td>0.503659</td>\n",
       "      <td>0.348429</td>\n",
       "      <td>0.258920</td>\n",
       "      <td>0.192589</td>\n",
       "    </tr>\n",
       "    <tr>\n",
       "      <th>2498</th>\n",
       "      <td>146.809397</td>\n",
       "      <td>0.975989</td>\n",
       "      <td>18.57691</td>\n",
       "      <td>17.09036</td>\n",
       "      <td>16.87376</td>\n",
       "      <td>16.81978</td>\n",
       "      <td>16.76803</td>\n",
       "      <td>STAR</td>\n",
       "      <td>0.000313</td>\n",
       "      <td>0.647910</td>\n",
       "      <td>0.504847</td>\n",
       "      <td>0.349251</td>\n",
       "      <td>0.259531</td>\n",
       "      <td>0.193043</td>\n",
       "    </tr>\n",
       "    <tr>\n",
       "      <th>2499</th>\n",
       "      <td>146.826582</td>\n",
       "      <td>1.009913</td>\n",
       "      <td>20.27353</td>\n",
       "      <td>19.55026</td>\n",
       "      <td>19.29927</td>\n",
       "      <td>19.13818</td>\n",
       "      <td>18.88516</td>\n",
       "      <td>QSO</td>\n",
       "      <td>0.860890</td>\n",
       "      <td>0.625005</td>\n",
       "      <td>0.487000</td>\n",
       "      <td>0.336904</td>\n",
       "      <td>0.250356</td>\n",
       "      <td>0.186219</td>\n",
       "    </tr>\n",
       "  </tbody>\n",
       "</table>\n",
       "<p>2500 rows × 14 columns</p>\n",
       "</div>"
      ],
      "text/plain": [
       "              ra       dec         u         g         r         i         z  \\\n",
       "0     145.519563 -0.277550  20.46911  25.11475  17.67106  17.13954  16.95682   \n",
       "1     145.801234 -0.211110  20.92195  18.96707  17.82314  17.23304  16.75092   \n",
       "2     152.076182 -0.360214  18.55622  17.32955  16.57430  16.16316  15.83828   \n",
       "3     145.196298 -0.879999  19.86500  18.27215  17.45637  17.07174  16.82843   \n",
       "4     145.207376 -0.863078  20.12505  17.94646  16.79356  16.31157  15.94484   \n",
       "...          ...       ...       ...       ...       ...       ...       ...   \n",
       "2495  146.713229  1.009295  20.00950  18.54216  17.54038  17.04188  16.69040   \n",
       "2496  146.724769  1.031107  19.88334  18.51727  17.87238  17.48676  17.30951   \n",
       "2497  146.771651  1.010293  20.14380  18.72187  17.74986  17.18673  16.81649   \n",
       "2498  146.809397  0.975989  18.57691  17.09036  16.87376  16.81978  16.76803   \n",
       "2499  146.826582  1.009913  20.27353  19.55026  19.29927  19.13818  18.88516   \n",
       "\n",
       "       class  redshift  extinction_u  extinction_g  extinction_r  \\\n",
       "0     GALAXY  0.098263      0.250194      0.194949      0.134865   \n",
       "1     GALAXY  0.144856      0.303444      0.236442      0.163569   \n",
       "2     GALAXY  0.096377      0.134622      0.104896      0.072567   \n",
       "3     GALAXY  0.118615      0.163474      0.127378      0.088120   \n",
       "4     GALAXY  0.141459      0.166269      0.129555      0.089626   \n",
       "...      ...       ...           ...           ...           ...   \n",
       "2495  GALAXY  0.161431      0.655902      0.511074      0.353559   \n",
       "2496  GALAXY  0.086455      0.637444      0.496692      0.343609   \n",
       "2497  GALAXY  0.161677      0.646385      0.503659      0.348429   \n",
       "2498    STAR  0.000313      0.647910      0.504847      0.349251   \n",
       "2499     QSO  0.860890      0.625005      0.487000      0.336904   \n",
       "\n",
       "      extinction_i  extinction_z  \n",
       "0         0.100219      0.074545  \n",
       "1         0.121549      0.090410  \n",
       "2         0.053925      0.040110  \n",
       "3         0.065482      0.048707  \n",
       "4         0.066602      0.049539  \n",
       "...            ...           ...  \n",
       "2495      0.262732      0.195424  \n",
       "2496      0.255338      0.189925  \n",
       "2497      0.258920      0.192589  \n",
       "2498      0.259531      0.193043  \n",
       "2499      0.250356      0.186219  \n",
       "\n",
       "[2500 rows x 14 columns]"
      ]
     },
     "execution_count": 72,
     "metadata": {},
     "output_type": "execute_result"
    }
   ],
   "source": [
    "sdss_data = sdss_data.to_pandas()\n",
    "sdss_data"
   ]
  },
  {
   "cell_type": "markdown",
   "id": "56445d27",
   "metadata": {},
   "source": [
    "Let's see if there's any missing value:"
   ]
  },
  {
   "cell_type": "code",
   "execution_count": 73,
   "id": "6710207f",
   "metadata": {},
   "outputs": [
    {
     "name": "stdout",
     "output_type": "stream",
     "text": [
      "No missing values found in the DataFrame.\n"
     ]
    }
   ],
   "source": [
    "missing_values = sdss_data.isna() \n",
    "\n",
    "\n",
    "any_missing = missing_values.any().any()\n",
    "\n",
    "\n",
    "if any_missing:\n",
    "    print(\"There are missing values in the DataFrame.\")\n",
    "else:\n",
    "    print(\"No missing values found in the DataFrame.\")"
   ]
  },
  {
   "cell_type": "markdown",
   "id": "9ccd2cbf",
   "metadata": {},
   "source": [
    "Nice, no missing values on our dataset.  We see we have a column with categorical data, the 'class' column in  which the objects belongs to. In total we have:\n"
   ]
  },
  {
   "cell_type": "code",
   "execution_count": 74,
   "id": "a7421c06",
   "metadata": {},
   "outputs": [],
   "source": [
    "k = sdss_data.groupby(sdss_data['class']).size().reset_index(name='counts')\n",
    "class_labels = k['class']"
   ]
  },
  {
   "cell_type": "markdown",
   "id": "be6c72d7",
   "metadata": {},
   "source": [
    "We are inclined to question whether there is any way in which the numerical variables in this dataset are capable of aiding in the identification of the class, i.e. the identification of the categorical variable in the dataset. But before we're going to do a exploratory data analysis to see if there's any hint that it might be possible."
   ]
  },
  {
   "cell_type": "markdown",
   "id": "8bcd273a",
   "metadata": {},
   "source": [
    "# EDA"
   ]
  },
  {
   "cell_type": "markdown",
   "id": "cbfcd331",
   "metadata": {},
   "source": [
    "As we want the algorithm to classify quasars and galaxies, we're going to explore the correlations first"
   ]
  },
  {
   "cell_type": "code",
   "execution_count": 75,
   "id": "085440b9",
   "metadata": {},
   "outputs": [],
   "source": [
    "from sklearn.preprocessing import LabelEncoder\n",
    "\n",
    "sdss_data['class'] = LabelEncoder().fit_transform(sdss_data['class'])\n",
    "corre_c_class = sdss_data.corrwith(sdss_data['class'])\n",
    "correlation_matrix = sdss_data.corr()"
   ]
  },
  {
   "cell_type": "markdown",
   "id": "bf4c58bc",
   "metadata": {},
   "source": [
    "The correlation matrix:"
   ]
  },
  {
   "cell_type": "code",
   "execution_count": 76,
   "id": "9fd5d823",
   "metadata": {},
   "outputs": [
    {
     "data": {
      "text/html": [
       "<div>\n",
       "<style scoped>\n",
       "    .dataframe tbody tr th:only-of-type {\n",
       "        vertical-align: middle;\n",
       "    }\n",
       "\n",
       "    .dataframe tbody tr th {\n",
       "        vertical-align: top;\n",
       "    }\n",
       "\n",
       "    .dataframe thead th {\n",
       "        text-align: right;\n",
       "    }\n",
       "</style>\n",
       "<table border=\"1\" class=\"dataframe\">\n",
       "  <thead>\n",
       "    <tr style=\"text-align: right;\">\n",
       "      <th></th>\n",
       "      <th>ra</th>\n",
       "      <th>dec</th>\n",
       "      <th>u</th>\n",
       "      <th>g</th>\n",
       "      <th>r</th>\n",
       "      <th>i</th>\n",
       "      <th>z</th>\n",
       "      <th>class</th>\n",
       "      <th>redshift</th>\n",
       "      <th>extinction_u</th>\n",
       "      <th>extinction_g</th>\n",
       "      <th>extinction_r</th>\n",
       "      <th>extinction_i</th>\n",
       "      <th>extinction_z</th>\n",
       "    </tr>\n",
       "  </thead>\n",
       "  <tbody>\n",
       "    <tr>\n",
       "      <th>ra</th>\n",
       "      <td>1.000000</td>\n",
       "      <td>-0.051482</td>\n",
       "      <td>-0.091470</td>\n",
       "      <td>-0.076656</td>\n",
       "      <td>-0.040076</td>\n",
       "      <td>-0.019570</td>\n",
       "      <td>-0.005161</td>\n",
       "      <td>0.063887</td>\n",
       "      <td>0.016891</td>\n",
       "      <td>-0.305491</td>\n",
       "      <td>-0.305491</td>\n",
       "      <td>-0.305491</td>\n",
       "      <td>-0.305491</td>\n",
       "      <td>-0.305491</td>\n",
       "    </tr>\n",
       "    <tr>\n",
       "      <th>dec</th>\n",
       "      <td>-0.051482</td>\n",
       "      <td>1.000000</td>\n",
       "      <td>-0.011354</td>\n",
       "      <td>-0.013800</td>\n",
       "      <td>-0.021827</td>\n",
       "      <td>-0.024894</td>\n",
       "      <td>-0.017838</td>\n",
       "      <td>-0.005198</td>\n",
       "      <td>-0.036728</td>\n",
       "      <td>0.110622</td>\n",
       "      <td>0.110622</td>\n",
       "      <td>0.110622</td>\n",
       "      <td>0.110622</td>\n",
       "      <td>0.110622</td>\n",
       "    </tr>\n",
       "    <tr>\n",
       "      <th>u</th>\n",
       "      <td>-0.091470</td>\n",
       "      <td>-0.011354</td>\n",
       "      <td>1.000000</td>\n",
       "      <td>0.897633</td>\n",
       "      <td>0.727263</td>\n",
       "      <td>0.631884</td>\n",
       "      <td>0.561138</td>\n",
       "      <td>-0.114051</td>\n",
       "      <td>0.178328</td>\n",
       "      <td>0.142106</td>\n",
       "      <td>0.142106</td>\n",
       "      <td>0.142106</td>\n",
       "      <td>0.142106</td>\n",
       "      <td>0.142106</td>\n",
       "    </tr>\n",
       "    <tr>\n",
       "      <th>g</th>\n",
       "      <td>-0.076656</td>\n",
       "      <td>-0.013800</td>\n",
       "      <td>0.897633</td>\n",
       "      <td>1.000000</td>\n",
       "      <td>0.925822</td>\n",
       "      <td>0.861035</td>\n",
       "      <td>0.811961</td>\n",
       "      <td>0.046008</td>\n",
       "      <td>0.360247</td>\n",
       "      <td>0.126758</td>\n",
       "      <td>0.126758</td>\n",
       "      <td>0.126758</td>\n",
       "      <td>0.126758</td>\n",
       "      <td>0.126758</td>\n",
       "    </tr>\n",
       "    <tr>\n",
       "      <th>r</th>\n",
       "      <td>-0.040076</td>\n",
       "      <td>-0.021827</td>\n",
       "      <td>0.727263</td>\n",
       "      <td>0.925822</td>\n",
       "      <td>1.000000</td>\n",
       "      <td>0.978060</td>\n",
       "      <td>0.938255</td>\n",
       "      <td>0.209645</td>\n",
       "      <td>0.447385</td>\n",
       "      <td>0.098736</td>\n",
       "      <td>0.098736</td>\n",
       "      <td>0.098736</td>\n",
       "      <td>0.098736</td>\n",
       "      <td>0.098736</td>\n",
       "    </tr>\n",
       "    <tr>\n",
       "      <th>i</th>\n",
       "      <td>-0.019570</td>\n",
       "      <td>-0.024894</td>\n",
       "      <td>0.631884</td>\n",
       "      <td>0.861035</td>\n",
       "      <td>0.978060</td>\n",
       "      <td>1.000000</td>\n",
       "      <td>0.966349</td>\n",
       "      <td>0.284742</td>\n",
       "      <td>0.481902</td>\n",
       "      <td>0.079731</td>\n",
       "      <td>0.079731</td>\n",
       "      <td>0.079731</td>\n",
       "      <td>0.079731</td>\n",
       "      <td>0.079731</td>\n",
       "    </tr>\n",
       "    <tr>\n",
       "      <th>z</th>\n",
       "      <td>-0.005161</td>\n",
       "      <td>-0.017838</td>\n",
       "      <td>0.561138</td>\n",
       "      <td>0.811961</td>\n",
       "      <td>0.938255</td>\n",
       "      <td>0.966349</td>\n",
       "      <td>1.000000</td>\n",
       "      <td>0.334063</td>\n",
       "      <td>0.499666</td>\n",
       "      <td>0.067681</td>\n",
       "      <td>0.067681</td>\n",
       "      <td>0.067681</td>\n",
       "      <td>0.067681</td>\n",
       "      <td>0.067681</td>\n",
       "    </tr>\n",
       "    <tr>\n",
       "      <th>class</th>\n",
       "      <td>0.063887</td>\n",
       "      <td>-0.005198</td>\n",
       "      <td>-0.114051</td>\n",
       "      <td>0.046008</td>\n",
       "      <td>0.209645</td>\n",
       "      <td>0.284742</td>\n",
       "      <td>0.334063</td>\n",
       "      <td>1.000000</td>\n",
       "      <td>0.207134</td>\n",
       "      <td>-0.000821</td>\n",
       "      <td>-0.000821</td>\n",
       "      <td>-0.000821</td>\n",
       "      <td>-0.000821</td>\n",
       "      <td>-0.000821</td>\n",
       "    </tr>\n",
       "    <tr>\n",
       "      <th>redshift</th>\n",
       "      <td>0.016891</td>\n",
       "      <td>-0.036728</td>\n",
       "      <td>0.178328</td>\n",
       "      <td>0.360247</td>\n",
       "      <td>0.447385</td>\n",
       "      <td>0.481902</td>\n",
       "      <td>0.499666</td>\n",
       "      <td>0.207134</td>\n",
       "      <td>1.000000</td>\n",
       "      <td>0.009930</td>\n",
       "      <td>0.009930</td>\n",
       "      <td>0.009930</td>\n",
       "      <td>0.009930</td>\n",
       "      <td>0.009930</td>\n",
       "    </tr>\n",
       "    <tr>\n",
       "      <th>extinction_u</th>\n",
       "      <td>-0.305491</td>\n",
       "      <td>0.110622</td>\n",
       "      <td>0.142106</td>\n",
       "      <td>0.126758</td>\n",
       "      <td>0.098736</td>\n",
       "      <td>0.079731</td>\n",
       "      <td>0.067681</td>\n",
       "      <td>-0.000821</td>\n",
       "      <td>0.009930</td>\n",
       "      <td>1.000000</td>\n",
       "      <td>1.000000</td>\n",
       "      <td>1.000000</td>\n",
       "      <td>1.000000</td>\n",
       "      <td>1.000000</td>\n",
       "    </tr>\n",
       "    <tr>\n",
       "      <th>extinction_g</th>\n",
       "      <td>-0.305491</td>\n",
       "      <td>0.110622</td>\n",
       "      <td>0.142106</td>\n",
       "      <td>0.126758</td>\n",
       "      <td>0.098736</td>\n",
       "      <td>0.079731</td>\n",
       "      <td>0.067681</td>\n",
       "      <td>-0.000821</td>\n",
       "      <td>0.009930</td>\n",
       "      <td>1.000000</td>\n",
       "      <td>1.000000</td>\n",
       "      <td>1.000000</td>\n",
       "      <td>1.000000</td>\n",
       "      <td>1.000000</td>\n",
       "    </tr>\n",
       "    <tr>\n",
       "      <th>extinction_r</th>\n",
       "      <td>-0.305491</td>\n",
       "      <td>0.110622</td>\n",
       "      <td>0.142106</td>\n",
       "      <td>0.126758</td>\n",
       "      <td>0.098736</td>\n",
       "      <td>0.079731</td>\n",
       "      <td>0.067681</td>\n",
       "      <td>-0.000821</td>\n",
       "      <td>0.009930</td>\n",
       "      <td>1.000000</td>\n",
       "      <td>1.000000</td>\n",
       "      <td>1.000000</td>\n",
       "      <td>1.000000</td>\n",
       "      <td>1.000000</td>\n",
       "    </tr>\n",
       "    <tr>\n",
       "      <th>extinction_i</th>\n",
       "      <td>-0.305491</td>\n",
       "      <td>0.110622</td>\n",
       "      <td>0.142106</td>\n",
       "      <td>0.126758</td>\n",
       "      <td>0.098736</td>\n",
       "      <td>0.079731</td>\n",
       "      <td>0.067681</td>\n",
       "      <td>-0.000821</td>\n",
       "      <td>0.009930</td>\n",
       "      <td>1.000000</td>\n",
       "      <td>1.000000</td>\n",
       "      <td>1.000000</td>\n",
       "      <td>1.000000</td>\n",
       "      <td>1.000000</td>\n",
       "    </tr>\n",
       "    <tr>\n",
       "      <th>extinction_z</th>\n",
       "      <td>-0.305491</td>\n",
       "      <td>0.110622</td>\n",
       "      <td>0.142106</td>\n",
       "      <td>0.126758</td>\n",
       "      <td>0.098736</td>\n",
       "      <td>0.079731</td>\n",
       "      <td>0.067681</td>\n",
       "      <td>-0.000821</td>\n",
       "      <td>0.009930</td>\n",
       "      <td>1.000000</td>\n",
       "      <td>1.000000</td>\n",
       "      <td>1.000000</td>\n",
       "      <td>1.000000</td>\n",
       "      <td>1.000000</td>\n",
       "    </tr>\n",
       "  </tbody>\n",
       "</table>\n",
       "</div>"
      ],
      "text/plain": [
       "                    ra       dec         u         g         r         i  \\\n",
       "ra            1.000000 -0.051482 -0.091470 -0.076656 -0.040076 -0.019570   \n",
       "dec          -0.051482  1.000000 -0.011354 -0.013800 -0.021827 -0.024894   \n",
       "u            -0.091470 -0.011354  1.000000  0.897633  0.727263  0.631884   \n",
       "g            -0.076656 -0.013800  0.897633  1.000000  0.925822  0.861035   \n",
       "r            -0.040076 -0.021827  0.727263  0.925822  1.000000  0.978060   \n",
       "i            -0.019570 -0.024894  0.631884  0.861035  0.978060  1.000000   \n",
       "z            -0.005161 -0.017838  0.561138  0.811961  0.938255  0.966349   \n",
       "class         0.063887 -0.005198 -0.114051  0.046008  0.209645  0.284742   \n",
       "redshift      0.016891 -0.036728  0.178328  0.360247  0.447385  0.481902   \n",
       "extinction_u -0.305491  0.110622  0.142106  0.126758  0.098736  0.079731   \n",
       "extinction_g -0.305491  0.110622  0.142106  0.126758  0.098736  0.079731   \n",
       "extinction_r -0.305491  0.110622  0.142106  0.126758  0.098736  0.079731   \n",
       "extinction_i -0.305491  0.110622  0.142106  0.126758  0.098736  0.079731   \n",
       "extinction_z -0.305491  0.110622  0.142106  0.126758  0.098736  0.079731   \n",
       "\n",
       "                     z     class  redshift  extinction_u  extinction_g  \\\n",
       "ra           -0.005161  0.063887  0.016891     -0.305491     -0.305491   \n",
       "dec          -0.017838 -0.005198 -0.036728      0.110622      0.110622   \n",
       "u             0.561138 -0.114051  0.178328      0.142106      0.142106   \n",
       "g             0.811961  0.046008  0.360247      0.126758      0.126758   \n",
       "r             0.938255  0.209645  0.447385      0.098736      0.098736   \n",
       "i             0.966349  0.284742  0.481902      0.079731      0.079731   \n",
       "z             1.000000  0.334063  0.499666      0.067681      0.067681   \n",
       "class         0.334063  1.000000  0.207134     -0.000821     -0.000821   \n",
       "redshift      0.499666  0.207134  1.000000      0.009930      0.009930   \n",
       "extinction_u  0.067681 -0.000821  0.009930      1.000000      1.000000   \n",
       "extinction_g  0.067681 -0.000821  0.009930      1.000000      1.000000   \n",
       "extinction_r  0.067681 -0.000821  0.009930      1.000000      1.000000   \n",
       "extinction_i  0.067681 -0.000821  0.009930      1.000000      1.000000   \n",
       "extinction_z  0.067681 -0.000821  0.009930      1.000000      1.000000   \n",
       "\n",
       "              extinction_r  extinction_i  extinction_z  \n",
       "ra               -0.305491     -0.305491     -0.305491  \n",
       "dec               0.110622      0.110622      0.110622  \n",
       "u                 0.142106      0.142106      0.142106  \n",
       "g                 0.126758      0.126758      0.126758  \n",
       "r                 0.098736      0.098736      0.098736  \n",
       "i                 0.079731      0.079731      0.079731  \n",
       "z                 0.067681      0.067681      0.067681  \n",
       "class            -0.000821     -0.000821     -0.000821  \n",
       "redshift          0.009930      0.009930      0.009930  \n",
       "extinction_u      1.000000      1.000000      1.000000  \n",
       "extinction_g      1.000000      1.000000      1.000000  \n",
       "extinction_r      1.000000      1.000000      1.000000  \n",
       "extinction_i      1.000000      1.000000      1.000000  \n",
       "extinction_z      1.000000      1.000000      1.000000  "
      ]
     },
     "execution_count": 76,
     "metadata": {},
     "output_type": "execute_result"
    }
   ],
   "source": [
    "correlation_matrix"
   ]
  },
  {
   "cell_type": "markdown",
   "id": "c137c47a",
   "metadata": {},
   "source": [
    "Let's plot a heatmap of the correlation matrix for a better understanding:"
   ]
  },
  {
   "cell_type": "code",
   "execution_count": 77,
   "id": "35d360c5",
   "metadata": {},
   "outputs": [
    {
     "data": {
      "image/png": "[encoded data removed]",
      "text/plain": [
       "<Figure size 700x600 with 2 Axes>"
      ]
     },
     "metadata": {},
     "output_type": "display_data"
    }
   ],
   "source": [
    "plt.figure(figsize=(7, 6))\n",
    "sns.heatmap(correlation_matrix, annot=False, cmap='jet')\n",
    "plt.title('Correlation Matrix Heatmap')\n",
    "plt.show()"
   ]
  },
  {
   "cell_type": "markdown",
   "id": "d1453f3c",
   "metadata": {},
   "source": [
    "We want to know how does theese variables are correlated with the Class (Quasars, Galaxies or Stars),"
   ]
  },
  {
   "cell_type": "code",
   "execution_count": 78,
   "id": "240f3749",
   "metadata": {},
   "outputs": [
    {
     "data": {
      "image/png": "[encoded data removed]",
      "text/plain": [
       "<Figure size 800x400 with 1 Axes>"
      ]
     },
     "metadata": {},
     "output_type": "display_data"
    }
   ],
   "source": [
    "plt.figure(figsize=(8, 4))\n",
    "sns.barplot(x=corre_c_class.index, y=corre_c_class.values, palette='Spectral')\n",
    "plt.xticks(rotation=75)\n",
    "plt.title('Correlation between variables and \"Class\"')\n",
    "plt.show()"
   ]
  },
  {
   "cell_type": "markdown",
   "id": "733e87e0",
   "metadata": {},
   "source": [
    "The photometric bands as well as the redshift have little correlation with the class, and extinction curves almost none. Unless we have a good argument to supose that the ascencion and declination (which will make up the coordinates in the sky of the object) are really numerical variables valid do distinguish between the classes, their correlation may be considered spurious.\n",
    "\n",
    "We're going to use Random Forest as our classification algorithm. Spectroscopy data often contains complex relationships between different features (wavelengths, intensities, etc.). Random Forest can capture nonlinear and intricate interactions between these features, making it suitable for handling intricate spectral patterns that might not be well modeled by linear classifiers. Sometimes astronomical datasets can be imbalanced, where one class (e.g., quasars) is significantly less common than the other (e.g., stars). Random Forest can handle imbalanced data reasonably well, as it generates decision trees using bootstrapped samples, which can help mitigate the impact of class imbalance.\n",
    "\n",
    "Also tree-based models are much more robust to outliers than linear models, and they do not need variables to be normalized to work. As such, we need to do very little preprocessing on our data."
   ]
  },
  {
   "cell_type": "markdown",
   "id": "192f2c06",
   "metadata": {},
   "source": [
    "# Random Forest"
   ]
  },
  {
   "cell_type": "markdown",
   "id": "c550428d",
   "metadata": {},
   "source": [
    "In a random forest classification, multiple decision trees are created using different random subsets of the data and features. Each decision tree is like an expert, providing its opinion on how to classify the data. Predictions are made by calculating the prediction for each decision tree, then taking the most popular result. \n",
    "\n",
    "We're going to use scikit-learn package for ou Random Forest algorithm."
   ]
  },
  {
   "cell_type": "code",
   "execution_count": 79,
   "id": "85ca534d",
   "metadata": {},
   "outputs": [],
   "source": [
    "from sklearn.ensemble import RandomForestClassifier"
   ]
  },
  {
   "cell_type": "markdown",
   "id": "7aa3502e",
   "metadata": {},
   "source": [
    "Following the workflow, next we need to split our data. "
   ]
  },
  {
   "cell_type": "markdown",
   "id": "19aac3a4",
   "metadata": {},
   "source": [
    "## Splitting the data:"
   ]
  },
  {
   "cell_type": "markdown",
   "id": "04e58d86",
   "metadata": {},
   "source": [
    "When training any supervised learning model, it is important to split the data into training and test data. The training data is used to fit the model. The algorithm uses the training data to learn the relationship between the features and the target. The test data is used to evaluate the performance of the model.\n",
    "\n",
    "The features of our model are all columns, except right ascension and declination.  So we have:"
   ]
  },
  {
   "cell_type": "code",
   "execution_count": 23,
   "id": "95a6edea",
   "metadata": {},
   "outputs": [],
   "source": [
    "X = sdss_data.drop(['ra', 'dec', 'class'], axis=1)\n",
    "y = sdss_data['class']"
   ]
  },
  {
   "cell_type": "code",
   "execution_count": 24,
   "id": "4f7d3336",
   "metadata": {},
   "outputs": [],
   "source": [
    "features  = X.columns.tolist()"
   ]
  },
  {
   "cell_type": "markdown",
   "id": "5abd2595",
   "metadata": {},
   "source": [
    "And now, splitting"
   ]
  },
  {
   "cell_type": "code",
   "execution_count": 25,
   "id": "14741f7f",
   "metadata": {},
   "outputs": [],
   "source": [
    "from sklearn.model_selection import train_test_split\n",
    "\n",
    "X_train, X_test, y_train, y_test = train_test_split(X, y, test_size=0.3)"
   ]
  },
  {
   "cell_type": "markdown",
   "id": "f30790a0",
   "metadata": {},
   "source": [
    "## Hyperparameter tunning"
   ]
  },
  {
   "cell_type": "markdown",
   "id": "b8a17948",
   "metadata": {},
   "source": [
    "Next step is to optimize the hyperparameters that are going to be used in our model. To do that we're going to do a _random search_ in the parameter space. We define the hyperparameters to use and their ranges in a dictionary, called param_dist, that follows:"
   ]
  },
  {
   "cell_type": "code",
   "execution_count": 26,
   "id": "9420eb46",
   "metadata": {},
   "outputs": [],
   "source": [
    "from sklearn.model_selection import RandomizedSearchCV\n",
    "from scipy.stats import randint\n",
    "\n",
    "param_dist = { 'n_estimators': randint(50,500), \n",
    "                             'max_depth': randint(1,20),\n",
    "                             'min_samples_leaf':randint(1,20)}"
   ]
  },
  {
   "cell_type": "code",
   "execution_count": 27,
   "id": "710a338f",
   "metadata": {},
   "outputs": [],
   "source": [
    "RF_tunning = RandomForestClassifier()\n",
    "RF_random_search = RandomizedSearchCV(RF_tunning, \n",
    "                                 param_distributions = param_dist, \n",
    "                                 n_iter=50, \n",
    "                                 cv=5)"
   ]
  },
  {
   "cell_type": "markdown",
   "id": "ef24a7c8",
   "metadata": {},
   "source": [
    "Fitting to the train data"
   ]
  },
  {
   "cell_type": "code",
   "execution_count": 28,
   "id": "e6017b1b",
   "metadata": {},
   "outputs": [
    {
     "data": {
      "text/html": [
       "<style>#sk-container-id-1 {color: black;background-color: white;}#sk-container-id-1 pre{padding: 0;}#sk-container-id-1 div.sk-toggleable {background-color: white;}#sk-container-id-1 label.sk-toggleable__label {cursor: pointer;display: block;width: 100%;margin-bottom: 0;padding: 0.3em;box-sizing: border-box;text-align: center;}#sk-container-id-1 label.sk-toggleable__label-arrow:before {content: \"▸\";float: left;margin-right: 0.25em;color: #696969;}#sk-container-id-1 label.sk-toggleable__label-arrow:hover:before {color: black;}#sk-container-id-1 div.sk-estimator:hover label.sk-toggleable__label-arrow:before {color: black;}#sk-container-id-1 div.sk-toggleable__content {max-height: 0;max-width: 0;overflow: hidden;text-align: left;background-color: #f0f8ff;}#sk-container-id-1 div.sk-toggleable__content pre {margin: 0.2em;color: black;border-radius: 0.25em;background-color: #f0f8ff;}#sk-container-id-1 input.sk-toggleable__control:checked~div.sk-toggleable__content {max-height: 200px;max-width: 100%;overflow: auto;}#sk-container-id-1 input.sk-toggleable__control:checked~label.sk-toggleable__label-arrow:before {content: \"▾\";}#sk-container-id-1 div.sk-estimator input.sk-toggleable__control:checked~label.sk-toggleable__label {background-color: #d4ebff;}#sk-container-id-1 div.sk-label input.sk-toggleable__control:checked~label.sk-toggleable__label {background-color: #d4ebff;}#sk-container-id-1 input.sk-hidden--visually {border: 0;clip: rect(1px 1px 1px 1px);clip: rect(1px, 1px, 1px, 1px);height: 1px;margin: -1px;overflow: hidden;padding: 0;position: absolute;width: 1px;}#sk-container-id-1 div.sk-estimator {font-family: monospace;background-color: #f0f8ff;border: 1px dotted black;border-radius: 0.25em;box-sizing: border-box;margin-bottom: 0.5em;}#sk-container-id-1 div.sk-estimator:hover {background-color: #d4ebff;}#sk-container-id-1 div.sk-parallel-item::after {content: \"\";width: 100%;border-bottom: 1px solid gray;flex-grow: 1;}#sk-container-id-1 div.sk-label:hover label.sk-toggleable__label {background-color: #d4ebff;}#sk-container-id-1 div.sk-serial::before {content: \"\";position: absolute;border-left: 1px solid gray;box-sizing: border-box;top: 0;bottom: 0;left: 50%;z-index: 0;}#sk-container-id-1 div.sk-serial {display: flex;flex-direction: column;align-items: center;background-color: white;padding-right: 0.2em;padding-left: 0.2em;position: relative;}#sk-container-id-1 div.sk-item {position: relative;z-index: 1;}#sk-container-id-1 div.sk-parallel {display: flex;align-items: stretch;justify-content: center;background-color: white;position: relative;}#sk-container-id-1 div.sk-item::before, #sk-container-id-1 div.sk-parallel-item::before {content: \"\";position: absolute;border-left: 1px solid gray;box-sizing: border-box;top: 0;bottom: 0;left: 50%;z-index: -1;}#sk-container-id-1 div.sk-parallel-item {display: flex;flex-direction: column;z-index: 1;position: relative;background-color: white;}#sk-container-id-1 div.sk-parallel-item:first-child::after {align-self: flex-end;width: 50%;}#sk-container-id-1 div.sk-parallel-item:last-child::after {align-self: flex-start;width: 50%;}#sk-container-id-1 div.sk-parallel-item:only-child::after {width: 0;}#sk-container-id-1 div.sk-dashed-wrapped {border: 1px dashed gray;margin: 0 0.4em 0.5em 0.4em;box-sizing: border-box;padding-bottom: 0.4em;background-color: white;}#sk-container-id-1 div.sk-label label {font-family: monospace;font-weight: bold;display: inline-block;line-height: 1.2em;}#sk-container-id-1 div.sk-label-container {text-align: center;}#sk-container-id-1 div.sk-container {/* jupyter's `normalize.less` sets `[hidden] { display: none; }` but bootstrap.min.css set `[hidden] { display: none !important; }` so we also need the `!important` here to be able to override the default hidden behavior on the sphinx rendered scikit-learn.org. See: https://github.com/scikit-learn/scikit-learn/issues/21755 */display: inline-block !important;position: relative;}#sk-container-id-1 div.sk-text-repr-fallback {display: none;}</style><div id=\"sk-container-id-1\" class=\"sk-top-container\"><div class=\"sk-text-repr-fallback\"><pre>RandomizedSearchCV(cv=5, estimator=RandomForestClassifier(), n_iter=50,\n",
       "                   param_distributions={&#x27;max_depth&#x27;: &lt;scipy.stats._distn_infrastructure.rv_discrete_frozen object at 0x7f2d0c3d0ed0&gt;,\n",
       "                                        &#x27;min_samples_leaf&#x27;: &lt;scipy.stats._distn_infrastructure.rv_discrete_frozen object at 0x7f2d09218f10&gt;,\n",
       "                                        &#x27;n_estimators&#x27;: &lt;scipy.stats._distn_infrastructure.rv_discrete_frozen object at 0x7f2d0920fc50&gt;})</pre><b>In a Jupyter environment, please rerun this cell to show the HTML representation or trust the notebook. <br />On GitHub, the HTML representation is unable to render, please try loading this page with nbviewer.org.</b></div><div class=\"sk-container\" hidden><div class=\"sk-item sk-dashed-wrapped\"><div class=\"sk-label-container\"><div class=\"sk-label sk-toggleable\"><input class=\"sk-toggleable__control sk-hidden--visually\" id=\"sk-estimator-id-1\" type=\"checkbox\" ><label for=\"sk-estimator-id-1\" class=\"sk-toggleable__label sk-toggleable__label-arrow\">RandomizedSearchCV</label><div class=\"sk-toggleable__content\"><pre>RandomizedSearchCV(cv=5, estimator=RandomForestClassifier(), n_iter=50,\n",
       "                   param_distributions={&#x27;max_depth&#x27;: &lt;scipy.stats._distn_infrastructure.rv_discrete_frozen object at 0x7f2d0c3d0ed0&gt;,\n",
       "                                        &#x27;min_samples_leaf&#x27;: &lt;scipy.stats._distn_infrastructure.rv_discrete_frozen object at 0x7f2d09218f10&gt;,\n",
       "                                        &#x27;n_estimators&#x27;: &lt;scipy.stats._distn_infrastructure.rv_discrete_frozen object at 0x7f2d0920fc50&gt;})</pre></div></div></div><div class=\"sk-parallel\"><div class=\"sk-parallel-item\"><div class=\"sk-item\"><div class=\"sk-label-container\"><div class=\"sk-label sk-toggleable\"><input class=\"sk-toggleable__control sk-hidden--visually\" id=\"sk-estimator-id-2\" type=\"checkbox\" ><label for=\"sk-estimator-id-2\" class=\"sk-toggleable__label sk-toggleable__label-arrow\">estimator: RandomForestClassifier</label><div class=\"sk-toggleable__content\"><pre>RandomForestClassifier()</pre></div></div></div><div class=\"sk-serial\"><div class=\"sk-item\"><div class=\"sk-estimator sk-toggleable\"><input class=\"sk-toggleable__control sk-hidden--visually\" id=\"sk-estimator-id-3\" type=\"checkbox\" ><label for=\"sk-estimator-id-3\" class=\"sk-toggleable__label sk-toggleable__label-arrow\">RandomForestClassifier</label><div class=\"sk-toggleable__content\"><pre>RandomForestClassifier()</pre></div></div></div></div></div></div></div></div></div></div>"
      ],
      "text/plain": [
       "RandomizedSearchCV(cv=5, estimator=RandomForestClassifier(), n_iter=50,\n",
       "                   param_distributions={'max_depth': <scipy.stats._distn_infrastructure.rv_discrete_frozen object at 0x7f2d0c3d0ed0>,\n",
       "                                        'min_samples_leaf': <scipy.stats._distn_infrastructure.rv_discrete_frozen object at 0x7f2d09218f10>,\n",
       "                                        'n_estimators': <scipy.stats._distn_infrastructure.rv_discrete_frozen object at 0x7f2d0920fc50>})"
      ]
     },
     "execution_count": 28,
     "metadata": {},
     "output_type": "execute_result"
    }
   ],
   "source": [
    "RF_random_search.fit(X_train, y_train)"
   ]
  },
  {
   "cell_type": "markdown",
   "id": "b7bcbde5",
   "metadata": {},
   "source": [
    "Now we can retrive a dictionary of the best estimators we've got from our random search"
   ]
  },
  {
   "cell_type": "code",
   "execution_count": 29,
   "id": "f6985ab4",
   "metadata": {},
   "outputs": [],
   "source": [
    "best_estimators = RF_random_search.best_estimator_"
   ]
  },
  {
   "cell_type": "code",
   "execution_count": 30,
   "id": "08e4f759",
   "metadata": {},
   "outputs": [
    {
     "name": "stdout",
     "output_type": "stream",
     "text": [
      "Best Hyperparameters: {'n_estimators': 394, 'max_depth': 6, 'min_samples_leaf': 1}\n"
     ]
    }
   ],
   "source": [
    "best_params = {\n",
    "    'n_estimators': best_estimators.n_estimators,\n",
    "    'max_depth': best_estimators.max_depth,\n",
    "    'min_samples_leaf': best_estimators.min_samples_leaf }\n",
    "\n",
    "print('Best Hyperparameters:', best_params)"
   ]
  },
  {
   "cell_type": "markdown",
   "id": "6f31ac13",
   "metadata": {},
   "source": [
    "# Model fitting,  prediction and evaluation"
   ]
  },
  {
   "cell_type": "markdown",
   "id": "a04e486c",
   "metadata": {},
   "source": [
    "Now we are in place to call our random forest classifier, "
   ]
  },
  {
   "cell_type": "code",
   "execution_count": 31,
   "id": "adb702bf",
   "metadata": {},
   "outputs": [],
   "source": [
    "Random_Forest = RandomForestClassifier(**best_params)"
   ]
  },
  {
   "cell_type": "markdown",
   "id": "b3731429",
   "metadata": {},
   "source": [
    "## Fitting the model"
   ]
  },
  {
   "cell_type": "code",
   "execution_count": 32,
   "id": "acf8ea12",
   "metadata": {},
   "outputs": [
    {
     "data": {
      "text/html": [
       "<style>#sk-container-id-2 {color: black;background-color: white;}#sk-container-id-2 pre{padding: 0;}#sk-container-id-2 div.sk-toggleable {background-color: white;}#sk-container-id-2 label.sk-toggleable__label {cursor: pointer;display: block;width: 100%;margin-bottom: 0;padding: 0.3em;box-sizing: border-box;text-align: center;}#sk-container-id-2 label.sk-toggleable__label-arrow:before {content: \"▸\";float: left;margin-right: 0.25em;color: #696969;}#sk-container-id-2 label.sk-toggleable__label-arrow:hover:before {color: black;}#sk-container-id-2 div.sk-estimator:hover label.sk-toggleable__label-arrow:before {color: black;}#sk-container-id-2 div.sk-toggleable__content {max-height: 0;max-width: 0;overflow: hidden;text-align: left;background-color: #f0f8ff;}#sk-container-id-2 div.sk-toggleable__content pre {margin: 0.2em;color: black;border-radius: 0.25em;background-color: #f0f8ff;}#sk-container-id-2 input.sk-toggleable__control:checked~div.sk-toggleable__content {max-height: 200px;max-width: 100%;overflow: auto;}#sk-container-id-2 input.sk-toggleable__control:checked~label.sk-toggleable__label-arrow:before {content: \"▾\";}#sk-container-id-2 div.sk-estimator input.sk-toggleable__control:checked~label.sk-toggleable__label {background-color: #d4ebff;}#sk-container-id-2 div.sk-label input.sk-toggleable__control:checked~label.sk-toggleable__label {background-color: #d4ebff;}#sk-container-id-2 input.sk-hidden--visually {border: 0;clip: rect(1px 1px 1px 1px);clip: rect(1px, 1px, 1px, 1px);height: 1px;margin: -1px;overflow: hidden;padding: 0;position: absolute;width: 1px;}#sk-container-id-2 div.sk-estimator {font-family: monospace;background-color: #f0f8ff;border: 1px dotted black;border-radius: 0.25em;box-sizing: border-box;margin-bottom: 0.5em;}#sk-container-id-2 div.sk-estimator:hover {background-color: #d4ebff;}#sk-container-id-2 div.sk-parallel-item::after {content: \"\";width: 100%;border-bottom: 1px solid gray;flex-grow: 1;}#sk-container-id-2 div.sk-label:hover label.sk-toggleable__label {background-color: #d4ebff;}#sk-container-id-2 div.sk-serial::before {content: \"\";position: absolute;border-left: 1px solid gray;box-sizing: border-box;top: 0;bottom: 0;left: 50%;z-index: 0;}#sk-container-id-2 div.sk-serial {display: flex;flex-direction: column;align-items: center;background-color: white;padding-right: 0.2em;padding-left: 0.2em;position: relative;}#sk-container-id-2 div.sk-item {position: relative;z-index: 1;}#sk-container-id-2 div.sk-parallel {display: flex;align-items: stretch;justify-content: center;background-color: white;position: relative;}#sk-container-id-2 div.sk-item::before, #sk-container-id-2 div.sk-parallel-item::before {content: \"\";position: absolute;border-left: 1px solid gray;box-sizing: border-box;top: 0;bottom: 0;left: 50%;z-index: -1;}#sk-container-id-2 div.sk-parallel-item {display: flex;flex-direction: column;z-index: 1;position: relative;background-color: white;}#sk-container-id-2 div.sk-parallel-item:first-child::after {align-self: flex-end;width: 50%;}#sk-container-id-2 div.sk-parallel-item:last-child::after {align-self: flex-start;width: 50%;}#sk-container-id-2 div.sk-parallel-item:only-child::after {width: 0;}#sk-container-id-2 div.sk-dashed-wrapped {border: 1px dashed gray;margin: 0 0.4em 0.5em 0.4em;box-sizing: border-box;padding-bottom: 0.4em;background-color: white;}#sk-container-id-2 div.sk-label label {font-family: monospace;font-weight: bold;display: inline-block;line-height: 1.2em;}#sk-container-id-2 div.sk-label-container {text-align: center;}#sk-container-id-2 div.sk-container {/* jupyter's `normalize.less` sets `[hidden] { display: none; }` but bootstrap.min.css set `[hidden] { display: none !important; }` so we also need the `!important` here to be able to override the default hidden behavior on the sphinx rendered scikit-learn.org. See: https://github.com/scikit-learn/scikit-learn/issues/21755 */display: inline-block !important;position: relative;}#sk-container-id-2 div.sk-text-repr-fallback {display: none;}</style><div id=\"sk-container-id-2\" class=\"sk-top-container\"><div class=\"sk-text-repr-fallback\"><pre>RandomForestClassifier(max_depth=6, n_estimators=394)</pre><b>In a Jupyter environment, please rerun this cell to show the HTML representation or trust the notebook. <br />On GitHub, the HTML representation is unable to render, please try loading this page with nbviewer.org.</b></div><div class=\"sk-container\" hidden><div class=\"sk-item\"><div class=\"sk-estimator sk-toggleable\"><input class=\"sk-toggleable__control sk-hidden--visually\" id=\"sk-estimator-id-4\" type=\"checkbox\" checked><label for=\"sk-estimator-id-4\" class=\"sk-toggleable__label sk-toggleable__label-arrow\">RandomForestClassifier</label><div class=\"sk-toggleable__content\"><pre>RandomForestClassifier(max_depth=6, n_estimators=394)</pre></div></div></div></div></div>"
      ],
      "text/plain": [
       "RandomForestClassifier(max_depth=6, n_estimators=394)"
      ]
     },
     "execution_count": 32,
     "metadata": {},
     "output_type": "execute_result"
    }
   ],
   "source": [
    "Random_Forest.fit(X_train, y_train)"
   ]
  },
  {
   "cell_type": "markdown",
   "id": "e235b0bf",
   "metadata": {},
   "source": [
    "## Making prediction"
   ]
  },
  {
   "cell_type": "code",
   "execution_count": 33,
   "id": "72bcbf35",
   "metadata": {},
   "outputs": [],
   "source": [
    "y_pred = Random_Forest.predict(X_test)"
   ]
  },
  {
   "cell_type": "markdown",
   "id": "6b0fa374",
   "metadata": {},
   "source": [
    "## Evaluating"
   ]
  },
  {
   "cell_type": "code",
   "execution_count": 38,
   "id": "4dc1cfc7",
   "metadata": {},
   "outputs": [],
   "source": [
    "from sklearn.metrics import accuracy_score, precision_score, recall_score"
   ]
  },
  {
   "cell_type": "markdown",
   "id": "478b5d47",
   "metadata": {},
   "source": [
    "## Recall and Precision in Classification\n",
    "\n",
    "**Recall (Sensitivity, True Positive Rate):**\n",
    "Recall measures a model's ability to correctly identify instances of a specific class out of all instances that actually belong to that class. It calculates the proportion of true positives (correctly predicted positive instances) among all actual positive instances. Mathematically:\n",
    "\n",
    "$$\n",
    " \\text{Recall} = \\frac{\\text{True Positives}}{\\text{True Positives} + \\text{False Negatives}} \n",
    "$$\n",
    "\n",
    "Where:\n",
    "- True Positives (TP): Correctly predicted positive instances.\n",
    "- False Negatives (FN): Instances that are positive but predicted as negative.\n",
    "\n",
    "Higher recall indicates effective capture of instances in a class. It's crucial when missing positive instances has serious consequences, such as in medical diagnosis.\n",
    "\n",
    "**Precision (Positive Predictive Value):**\n",
    "Precision measures a model's ability to correctly identify instances of a specific class out of all instances predicted as belonging to that class. It calculates the proportion of true positives among all instances predicted as positive. Mathematically:\n",
    "\n",
    "$$\n",
    "\\text{Precision} = \\frac{\\text{True Positives}}{\\text{True Positives} + \\text{False Positives}} \n",
    "$$\n",
    "\n",
    "Where:\n",
    "- True Positives (TP): Same as before.\n",
    "- False Positives (FP): Instances that are negative but predicted as positive.\n",
    "\n",
    "Higher precision indicates accurate positive predictions. It's crucial when false positives are costly, as in spam email detection.\n",
    "\n",
    "**Balancing Recall and Precision:**\n",
    "Recall and precision are often inversely related. Balancing them depends on the application and the costs of false positives and false negatives. The F1-score, the harmonic mean of recall and precision, provides a single metric considering both:\n",
    "\n",
    "$$\n",
    " F1\\text{-score} = 2 \\times \\frac{\\text{Precision} \\times \\text{Recall}}{\\text{Precision} + \\text{Recall}} \n",
    "$$\n",
    "\n",
    "In summary, recall and precision offer different insights into model performance. The choice between them depends on the context and classification goals."
   ]
  },
  {
   "cell_type": "markdown",
   "id": "a66e3329",
   "metadata": {},
   "source": [
    "### Classification Report"
   ]
  },
  {
   "cell_type": "code",
   "execution_count": 39,
   "id": "bcbfb0c4",
   "metadata": {},
   "outputs": [
    {
     "name": "stdout",
     "output_type": "stream",
     "text": [
      "Classification Report:\n",
      "               precision    recall  f1-score   support\n",
      "\n",
      "         QSO       0.99      1.00      0.99       668\n",
      "      Galaxy       0.93      0.86      0.89        44\n",
      "        STAR       1.00      1.00      1.00        38\n",
      "\n",
      "    accuracy                           0.99       750\n",
      "   macro avg       0.97      0.95      0.96       750\n",
      "weighted avg       0.99      0.99      0.99       750\n",
      "\n"
     ]
    }
   ],
   "source": [
    "from sklearn.metrics import classification_report\n",
    "report = classification_report(y_test, y_pred, target_names=['QSO', 'Galaxy', 'STAR']) \n",
    "print('Classification Report:\\n', report)"
   ]
  },
  {
   "cell_type": "markdown",
   "id": "28b210e0",
   "metadata": {},
   "source": [
    "We can see that this result is quite similar (considering the size of the sample) to the one obtained by [A. O. Clarke 2020](https://arxiv.org/abs/1909.10963) \n",
    "\n",
    "### Performance metrics derived from applying the random forest model to the test dataset of 1.55 million spectroscopically confirmed sources. \n",
    "\n",
    "| Features                          | Precision - Galaxy | Precision - Quasar | Precision - Star | Recall - Galaxy | Recall - Quasar | Recall - Star | F1 Score - Galaxy | F1 Score - Quasar | F1 Score - Star |\n",
    "| --------------------------------- | ------------------ | ------------------ | ---------------- | --------------- | --------------- | ------------- | ----------------- | ----------------- | --------------- |\n",
    "| SDSS + WISE + resolved_r          | 0.987              | 0.961              | 0.991            | 0.995           | 0.944           | 0.965         | 0.991             | 0.952             | 0.978           |\n",
    "| SDSS + WISE                       | 0.981              | 0.957              | 0.989            | 0.993           | 0.929           | 0.958         | 0.987             | 0.943             | 0.973           |\n",
    "|**SDSS**                              | **0.956**              | **0.905**              | **0.958**            | **0.980**           | **0.865**           | **0.888**         | **0.968**             | **0.885**             | **0.922**           |\n",
    "| SDSS + resolved_r                 | 0.981              | 0.948              | 0.979            | 0.993           | 0.924           | 0.945         | 0.987             | 0.936             | 0.962           |\n",
    "| WISE                              | 0.880              | 0.886              | 0.711            | 0.954           | 0.862           | 0.466         | 0.915             | 0.874             | 0.563           |\n",
    "\n",
    "\n",
    "* SDSS PSF magnitudes are in bands *u, g, r, i, z*, WISE magnitudes are in bands *w1, w2, w3, w4*."
   ]
  },
  {
   "cell_type": "markdown",
   "id": "8911b1a4",
   "metadata": {},
   "source": [
    "### Confusion Matrix"
   ]
  },
  {
   "cell_type": "code",
   "execution_count": 54,
   "id": "98db04ed",
   "metadata": {},
   "outputs": [
    {
     "data": {
      "image/png": "[encoded data removed]",
      "text/plain": [
       "<Figure size 800x600 with 2 Axes>"
      ]
     },
     "metadata": {},
     "output_type": "display_data"
    }
   ],
   "source": [
    "from sklearn.metrics import confusion_matrix\n",
    "\n",
    "CM = confusion_matrix(y_test, y_pred)\n",
    "\n",
    "plt.figure(figsize=(8, 6))\n",
    "sns.heatmap(CM, annot=True, fmt='d', cmap='plasma', xticklabels=class_labels, yticklabels=class_labels)\n",
    "plt.xlabel('Predicted')\n",
    "plt.ylabel('True')\n",
    "plt.title('Confusion Matrix')\n",
    "plt.show()"
   ]
  },
  {
   "cell_type": "markdown",
   "id": "51f7a040",
   "metadata": {},
   "source": [
    "#### Accuracy\n",
    "\n",
    "Accuracy measures the proportion of correctly classified instances out of the total instances. It's a common metric for balanced datasets, but it might not be the best choice for highly imbalanced datasets."
   ]
  },
  {
   "cell_type": "code",
   "execution_count": 55,
   "id": "eee169e0",
   "metadata": {},
   "outputs": [
    {
     "name": "stdout",
     "output_type": "stream",
     "text": [
      "Accuracy: 0.99\n"
     ]
    }
   ],
   "source": [
    "accuracy = accuracy_score(y_test, y_pred)\n",
    "print(f'Accuracy: {accuracy:.2f}')"
   ]
  },
  {
   "cell_type": "markdown",
   "id": "6de2c3cc",
   "metadata": {},
   "source": [
    "#### Feature Importance\n",
    "\n",
    "Our dataset is a bit inbalanced so we're going to use feature importance as a mean to evaluate our model."
   ]
  },
  {
   "cell_type": "code",
   "execution_count": 61,
   "id": "f127f0be",
   "metadata": {},
   "outputs": [
    {
     "data": {
      "image/png": "[encoded data removed]",
      "text/plain": [
       "<Figure size 700x400 with 1 Axes>"
      ]
     },
     "metadata": {},
     "output_type": "display_data"
    }
   ],
   "source": [
    "importances = Random_Forest.feature_importances_\n",
    "indices = np.argsort(importances)[::-1]\n",
    "\n",
    "num_bars = len(indices)\n",
    "colors = plt.cm.rainbow(np.linspace(0, 1, num_bars))\n",
    "# Plot the feature importances\n",
    "plt.figure(figsize=(7, 4))\n",
    "plt.title(\"Feature Importances\")\n",
    "plt.bar(range(X_train.shape[1]), importances[indices], align=\"center\", color=colors)\n",
    "plt.xticks(range(X_train.shape[1]), [features[i] for i in indices], rotation=35) \n",
    "plt.xlim([-1, X_train.shape[1]])\n",
    "plt.tight_layout()\n",
    "plt.show()"
   ]
  },
  {
   "cell_type": "markdown",
   "id": "c8b747a7",
   "metadata": {},
   "source": [
    "Galaxies and quasars are both astronomical objects, but they have distinct differences in terms of their properties and behavior, but not in the spectrograph aspect. Most galaxies in the universe have relatively small redshift values. These values are typically in the range of 0 to 0.1, Quasars, on the other hand, are known for their extremely high redshift values. Quasars can have redshifts greater than 0.1 and even exceed values of 7 or more. This corresponds to the objects being billions of light-years away from us. The high redshift of quasars is a clear indicator of their extreme distance and their place in the early universe. "
   ]
  }
 ],
 "metadata": {
  "kernelspec": {
   "display_name": "Python 3 (ipykernel)",
   "language": "python",
   "name": "python3"
  },
  "language_info": {
   "codemirror_mode": {
    "name": "ipython",
    "version": 3
   },
   "file_extension": ".py",
   "mimetype": "text/x-python",
   "name": "python",
   "nbconvert_exporter": "python",
   "pygments_lexer": "ipython3",
   "version": "3.11.4"
  }
 },
 "nbformat": 4,
 "nbformat_minor": 5
}
